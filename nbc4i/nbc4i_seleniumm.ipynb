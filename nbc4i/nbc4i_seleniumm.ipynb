{
 "cells": [
  {
   "cell_type": "code",
   "execution_count": 2,
   "metadata": {},
   "outputs": [],
   "source": [
    "import time\n",
    "import pandas as pd\n",
    "from selenium import webdriver\n",
    "from selenium.webdriver.chrome.service import Service\n",
    "from selenium.webdriver.chrome.options import Options\n",
    "from selenium.webdriver.common.by import By\n",
    "from selenium.webdriver.support.ui import WebDriverWait\n",
    "from selenium.webdriver.support import expected_conditions as EC\n",
    "from webdriver_manager.chrome import ChromeDriverManager\n",
    "from tqdm import tqdm"
   ]
  },
  {
   "cell_type": "code",
   "execution_count": 5,
   "metadata": {},
   "outputs": [
    {
     "data": {
      "text/plain": [
       "{'identifier': '2'}"
      ]
     },
     "execution_count": 5,
     "metadata": {},
     "output_type": "execute_result"
    }
   ],
   "source": [
    "# 配置 Selenium\n",
    "chrome_options = Options()\n",
    "# chrome_options.add_argument(\"--headless\")  # 無頭模式，避免打開瀏覽器窗口\n",
    "# chrome_options.add_argument(\"--disable-gpu\")\n",
    "# chrome_options.add_argument(\"--no-sandbox\")\n",
    "# chrome_options.add_argument(\"--disable-dev-shm-usage\")\n",
    "# chrome_options.add_argument('user-agent=Mozilla/5.0 (Windows NT 10.0; Win64; x64) AppleWebKit/537.36 (KHTML, like Gecko) Chrome/91.0.4472.124 Safari/537.36')\n",
    "# chrome_options.add_argument('--disable-blink-features=AutomationControlled')\n",
    "\n",
    "# 初始化 WebDriver\n",
    "driver = webdriver.Chrome(service=Service(ChromeDriverManager().install()), options=chrome_options)\n",
    "\n",
    "# 隱藏 Selenium 特徵\n",
    "driver.execute_cdp_cmd('Page.addScriptToEvaluateOnNewDocument', {\n",
    "    'source': '''\n",
    "        Object.defineProperty(navigator, 'webdriver', {\n",
    "            get: () => undefined\n",
    "        })\n",
    "    '''\n",
    "})"
   ]
  },
  {
   "cell_type": "code",
   "execution_count": 20,
   "metadata": {},
   "outputs": [],
   "source": [
    "driver.get('https://www.nbc4i.com/page/29/?submit&s=intel+&orderby=modified')"
   ]
  },
  {
   "cell_type": "code",
   "execution_count": 23,
   "metadata": {},
   "outputs": [
    {
     "data": {
      "text/plain": [
       "True"
      ]
     },
     "execution_count": 23,
     "metadata": {},
     "output_type": "execute_result"
    }
   ],
   "source": [
    "driver.find_element(By.XPATH, '/html/body/div[1]/div/div[2]/div[2]/div/main/section/div/h1').text == 'We’re sorry!'"
   ]
  },
  {
   "cell_type": "code",
   "execution_count": 6,
   "metadata": {},
   "outputs": [],
   "source": [
    "url = f'https://www.nbc4i.com/?submit=&s=intel+&orderby=modified'\n",
    "driver.get(url)"
   ]
  },
  {
   "cell_type": "code",
   "execution_count": 7,
   "metadata": {},
   "outputs": [],
   "source": [
    "articles = driver.find_elements(By.XPATH, \"//div[contains(@class, 'article-list__article-text')]//h2/a\")\n",
    "article_urls = [article.get_attribute('href') for article in articles]"
   ]
  },
  {
   "cell_type": "code",
   "execution_count": 10,
   "metadata": {},
   "outputs": [],
   "source": [
    "driver.get(article_urls[0])"
   ]
  },
  {
   "cell_type": "code",
   "execution_count": 12,
   "metadata": {},
   "outputs": [],
   "source": [
    "title = driver.find_element(By.XPATH, \"//html/body/div[2]/div/div[2]/div[1]/header/div/div/h1\").text\n",
    "author = driver.find_element(By.XPATH, \"//html/body/div[2]/div/div[2]/div[1]/header/div/div/div[2]/p[1]/a\").text\n",
    "time_element = driver.find_element(By.XPATH, \"//html/body/div[2]/div/div[2]/div[1]/header/div/div/div[2]/p[2]/time\")\n",
    "time_ = time_element.get_attribute('datetime')\n",
    "paragraphs = driver.find_elements(By.XPATH, \"//div[@class='article-content article-body rich-text ']//p\")\n",
    "content = '\\n'.join([paragraph.text for paragraph in paragraphs])\n",
    "\n",
    "articles_data = []\n",
    "articles_data.append({\n",
    "    'URL': url,\n",
    "    'Title': title,\n",
    "    'Author': author,\n",
    "    'Time': time_,\n",
    "    'Content': content\n",
    "            })"
   ]
  },
  {
   "cell_type": "code",
   "execution_count": 26,
   "metadata": {},
   "outputs": [
    {
     "name": "stderr",
     "output_type": "stream",
     "text": [
      "  0%|          | 0/12 [00:00<?, ?it/s]"
     ]
    },
    {
     "name": "stderr",
     "output_type": "stream",
     "text": []
    },
    {
     "name": "stdout",
     "output_type": "stream",
     "text": [
      "Error occurred while scraping https://www.nbc4i.com/celebrating-75-years-of-local-4-you-at-nbc4/\n"
     ]
    },
    {
     "name": "stderr",
     "output_type": "stream",
     "text": []
    },
    {
     "name": "stdout",
     "output_type": "stream",
     "text": [
      "Error occurred while scraping https://www.nbc4i.com/news/ap-top-headlines/ap-japan-new-zealand-agree-on-intel-sharing-pact-amid-growing-regional-security-concerns/\n"
     ]
    },
    {
     "name": "stderr",
     "output_type": "stream",
     "text": []
    },
    {
     "name": "stdout",
     "output_type": "stream",
     "text": [
      "Error occurred while scraping https://www.nbc4i.com/news/local-news/columbus/columbus-wants-to-install-security-camera-network-to-fight-crime-but-will-it-work/\n"
     ]
    },
    {
     "name": "stderr",
     "output_type": "stream",
     "text": []
    },
    {
     "name": "stdout",
     "output_type": "stream",
     "text": [
      "Error occurred while scraping https://www.nbc4i.com/news/data-desk-ohio/ohio-has-one-of-the-worst-economies-in-the-country-study-says/\n"
     ]
    },
    {
     "name": "stderr",
     "output_type": "stream",
     "text": []
    },
    {
     "name": "stdout",
     "output_type": "stream",
     "text": [
      "Error occurred while scraping https://www.nbc4i.com/news/local-news/groveport/search-for-escaped-ohio-sex-offender-enters-5th-day/\n"
     ]
    },
    {
     "name": "stderr",
     "output_type": "stream",
     "text": []
    },
    {
     "name": "stdout",
     "output_type": "stream",
     "text": [
      "Error occurred while scraping https://www.nbc4i.com/news/local-news/columbus/columbus-officer-fired-after-excessive-sex-acts-on-duty-at-kroger-chief-says/\n"
     ]
    },
    {
     "name": "stderr",
     "output_type": "stream",
     "text": []
    },
    {
     "name": "stdout",
     "output_type": "stream",
     "text": [
      "Error occurred while scraping https://www.nbc4i.com/news/local-news/groveport/registered-sex-offender-arrested-for-kidnapping-in-grove-city/\n"
     ]
    },
    {
     "name": "stderr",
     "output_type": "stream",
     "text": []
    },
    {
     "name": "stdout",
     "output_type": "stream",
     "text": [
      "Error occurred while scraping https://www.nbc4i.com/news/local-news/central-ohio-news/dewine-pushes-back-executions-for-3-inmates-yet-again/\n"
     ]
    },
    {
     "name": "stderr",
     "output_type": "stream",
     "text": []
    },
    {
     "name": "stdout",
     "output_type": "stream",
     "text": [
      "Error occurred while scraping https://www.nbc4i.com/news/local-news/columbus/suspects-found-in-deadly-vigil-shooting-at-columbus-park/\n"
     ]
    },
    {
     "name": "stderr",
     "output_type": "stream",
     "text": []
    },
    {
     "name": "stdout",
     "output_type": "stream",
     "text": [
      "Error occurred while scraping https://www.nbc4i.com/news/investigates/which-areas-of-franklin-county-successfully-appealed-rising-property-taxes/\n"
     ]
    },
    {
     "name": "stderr",
     "output_type": "stream",
     "text": []
    },
    {
     "name": "stdout",
     "output_type": "stream",
     "text": [
      "Error occurred while scraping https://www.nbc4i.com/news/local-news/columbus/why-owners-of-public-nuisance-eastland-mall-are-now-getting-fined-1000-a-day/\n"
     ]
    },
    {
     "name": "stderr",
     "output_type": "stream",
     "text": []
    },
    {
     "name": "stdout",
     "output_type": "stream",
     "text": [
      "Error occurred while scraping https://www.nbc4i.com/news/4everhome/this-gorgeous-adoptable-senior-dog-lives-up-to-his-name/\n"
     ]
    },
    {
     "name": "stderr",
     "output_type": "stream",
     "text": []
    },
    {
     "name": "stdout",
     "output_type": "stream",
     "text": [
      "Error occurred while scraping https://www.nbc4i.com/local-4-you/nbc4s-colleen-marshall-takes-part-in-control-group-for-alzheimers-drug-trial/\n"
     ]
    },
    {
     "name": "stderr",
     "output_type": "stream",
     "text": []
    },
    {
     "name": "stdout",
     "output_type": "stream",
     "text": [
      "Error occurred while scraping https://www.nbc4i.com/news/local-news/columbus/camera-catches-porch-pirate-steal-package-seconds-after-drop-off-at-columbus-home/\n"
     ]
    },
    {
     "name": "stderr",
     "output_type": "stream",
     "text": []
    },
    {
     "name": "stdout",
     "output_type": "stream",
     "text": [
      "Error occurred while scraping https://www.nbc4i.com/news/local-news/central-ohio-news/ohio-recreational-marijuana-applications-open-today-for-dual-use-dispensaries/\n"
     ]
    },
    {
     "name": "stderr",
     "output_type": "stream",
     "text": []
    },
    {
     "name": "stdout",
     "output_type": "stream",
     "text": [
      "Error occurred while scraping https://www.nbc4i.com/news/local-news/columbus/no-charges-for-columbus-officers-who-shot-and-killed-man-in-2023/\n"
     ]
    },
    {
     "name": "stderr",
     "output_type": "stream",
     "text": []
    },
    {
     "name": "stdout",
     "output_type": "stream",
     "text": [
      "Error occurred while scraping https://www.nbc4i.com/news/local-news/chillicothe/ohio-bowling-pro-will-become-sex-offender-with-15-charge-conviction/\n"
     ]
    },
    {
     "name": "stderr",
     "output_type": "stream",
     "text": []
    },
    {
     "name": "stdout",
     "output_type": "stream",
     "text": [
      "Error occurred while scraping https://www.nbc4i.com/news/local-news/grove-city/new-superintendent-for-south-western-city-schools-recommended-by-board/\n"
     ]
    },
    {
     "name": "stderr",
     "output_type": "stream",
     "text": []
    },
    {
     "name": "stdout",
     "output_type": "stream",
     "text": [
      "Error occurred while scraping https://www.nbc4i.com/news/local-news/columbus/first-victim-identified-after-deadly-shooting-at-columbus-vigil-for-woman/\n"
     ]
    },
    {
     "name": "stderr",
     "output_type": "stream",
     "text": []
    },
    {
     "name": "stdout",
     "output_type": "stream",
     "text": [
      "Error occurred while scraping https://www.nbc4i.com/news/local-news/grandview-heights/how-grandview-heights-schools-athletic-complex-is-changing/\n"
     ]
    },
    {
     "name": "stderr",
     "output_type": "stream",
     "text": []
    },
    {
     "name": "stdout",
     "output_type": "stream",
     "text": [
      "Error occurred while scraping https://www.nbc4i.com/news/politics/ap-politics/ap-house-speaker-appoints-two-trump-allies-to-a-committee-overseeing-us-spy-agencies/\n"
     ]
    },
    {
     "name": "stderr",
     "output_type": "stream",
     "text": []
    },
    {
     "name": "stdout",
     "output_type": "stream",
     "text": [
      "Error occurred while scraping https://www.nbc4i.com/news/local-news/central-ohio-news/nearly-20-guns-seized-during-ohio-cocaine-trafficking-arrest/\n"
     ]
    },
    {
     "name": "stderr",
     "output_type": "stream",
     "text": [
      "100%|██████████| 50/50 [05:46<00:00,  6.94s/it]"
     ]
    },
    {
     "name": "stdout",
     "output_type": "stream",
     "text": [
      "Error occurred while scraping https://www.nbc4i.com/news/local-news/central-ohio-news/what-are-nitazenes-the-drugs-newly-banned-in-ohio/\n"
     ]
    },
    {
     "name": "stderr",
     "output_type": "stream",
     "text": [
      "\n",
      "0it [00:00, ?it/s]\n",
      "0it [00:00, ?it/s]\n",
      "0it [00:00, ?it/s]\n",
      "0it [00:00, ?it/s]\n",
      "0it [00:00, ?it/s]\n",
      "0it [00:00, ?it/s]\n",
      "0it [00:00, ?it/s]\n",
      "0it [00:00, ?it/s]\n",
      "0it [00:00, ?it/s]\n",
      "0it [00:00, ?it/s]\n",
      "0it [00:00, ?it/s]\n",
      "0it [00:00, ?it/s]\n",
      "0it [00:00, ?it/s]\n",
      "0it [00:00, ?it/s]\n",
      "0it [00:00, ?it/s]\n",
      "0it [00:00, ?it/s]\n",
      "0it [00:00, ?it/s]\n",
      "0it [00:00, ?it/s]\n",
      "0it [00:00, ?it/s]\n",
      "0it [00:00, ?it/s]\n",
      "0it [00:00, ?it/s]\n",
      "0it [00:00, ?it/s]\n",
      "0it [00:00, ?it/s]\n",
      "0it [00:00, ?it/s]\n",
      "0it [00:00, ?it/s]\n",
      "0it [00:00, ?it/s]\n",
      "0it [00:00, ?it/s]\n",
      "0it [00:00, ?it/s]\n",
      "0it [00:00, ?it/s]\n",
      "0it [00:00, ?it/s]\n",
      "0it [00:00, ?it/s]\n",
      "0it [00:00, ?it/s]\n",
      "0it [00:00, ?it/s]\n",
      "0it [00:00, ?it/s]\n",
      "0it [00:00, ?it/s]\n",
      "0it [00:00, ?it/s]\n",
      "0it [00:00, ?it/s]\n",
      "0it [00:00, ?it/s]\n",
      "0it [00:00, ?it/s]\n",
      "0it [00:00, ?it/s]\n",
      "0it [00:00, ?it/s]\n",
      "0it [00:00, ?it/s]\n",
      "0it [00:00, ?it/s]\n",
      "0it [00:00, ?it/s]\n",
      "0it [00:00, ?it/s]\n",
      "0it [00:00, ?it/s]\n",
      "0it [00:00, ?it/s]\n",
      "0it [00:00, ?it/s]\n",
      "0it [00:00, ?it/s]\n",
      "0it [00:00, ?it/s]\n",
      "  0%|          | 0/12 [14:45<?, ?it/s]\n"
     ]
    },
    {
     "ename": "NoSuchWindowException",
     "evalue": "Message: no such window: target window already closed\nfrom unknown error: web view not found\n  (Session info: chrome=126.0.6478.127)\nStacktrace:\n0   chromedriver                        0x00000001026980e8 chromedriver + 5169384\n1   chromedriver                        0x000000010268ffba chromedriver + 5136314\n2   chromedriver                        0x000000010220c36c chromedriver + 402284\n3   chromedriver                        0x00000001021e15f4 chromedriver + 226804\n4   chromedriver                        0x000000010228553d chromedriver + 898365\n5   chromedriver                        0x000000010229b908 chromedriver + 989448\n6   chromedriver                        0x000000010227c853 chromedriver + 862291\n7   chromedriver                        0x000000010224c5c6 chromedriver + 665030\n8   chromedriver                        0x000000010224ce4e chromedriver + 667214\n9   chromedriver                        0x000000010265ad00 chromedriver + 4918528\n10  chromedriver                        0x000000010265fcfd chromedriver + 4939005\n11  chromedriver                        0x00000001026603d5 chromedriver + 4940757\n12  chromedriver                        0x000000010263bde4 chromedriver + 4791780\n13  chromedriver                        0x00000001026606c9 chromedriver + 4941513\n14  chromedriver                        0x000000010262d5b4 chromedriver + 4732340\n15  chromedriver                        0x0000000102680898 chromedriver + 5073048\n16  chromedriver                        0x0000000102680a57 chromedriver + 5073495\n17  chromedriver                        0x000000010268fb6e chromedriver + 5135214\n18  libsystem_pthread.dylib             0x00007ff81cdad4f4 _pthread_start + 125\n19  libsystem_pthread.dylib             0x00007ff81cda900f thread_start + 15\n",
     "output_type": "error",
     "traceback": [
      "\u001b[0;31m---------------------------------------------------------------------------\u001b[0m",
      "\u001b[0;31mNoSuchWindowException\u001b[0m                     Traceback (most recent call last)",
      "Cell \u001b[0;32mIn[26], line 19\u001b[0m\n\u001b[1;32m     14\u001b[0m time\u001b[38;5;241m.\u001b[39msleep(\u001b[38;5;241m10\u001b[39m)\n\u001b[1;32m     16\u001b[0m \u001b[38;5;66;03m# 檢查是否有文章\u001b[39;00m\n\u001b[1;32m     17\u001b[0m \n\u001b[1;32m     18\u001b[0m \u001b[38;5;66;03m# 檢查是否出現 \"We’re sorry!\" 信息\u001b[39;00m\n\u001b[0;32m---> 19\u001b[0m error_elements \u001b[38;5;241m=\u001b[39m \u001b[43mdriver\u001b[49m\u001b[38;5;241;43m.\u001b[39;49m\u001b[43mfind_elements\u001b[49m\u001b[43m(\u001b[49m\u001b[43mBy\u001b[49m\u001b[38;5;241;43m.\u001b[39;49m\u001b[43mXPATH\u001b[49m\u001b[43m,\u001b[49m\u001b[43m \u001b[49m\u001b[38;5;124;43m'\u001b[39;49m\u001b[38;5;124;43m/html/body/div[1]/div/div[2]/div[2]/div/main/section/div/h1\u001b[39;49m\u001b[38;5;124;43m'\u001b[39;49m\u001b[43m)\u001b[49m\n\u001b[1;32m     20\u001b[0m \u001b[38;5;28;01mif\u001b[39;00m error_elements \u001b[38;5;129;01mand\u001b[39;00m error_elements[\u001b[38;5;241m0\u001b[39m]\u001b[38;5;241m.\u001b[39mtext \u001b[38;5;241m==\u001b[39m \u001b[38;5;124m'\u001b[39m\u001b[38;5;124mWe’re sorry!\u001b[39m\u001b[38;5;124m'\u001b[39m:\n\u001b[1;32m     21\u001b[0m     \u001b[38;5;28mprint\u001b[39m(\u001b[38;5;124mf\u001b[39m\u001b[38;5;124m\"\u001b[39m\u001b[38;5;124mNo more results for keyword: \u001b[39m\u001b[38;5;132;01m{\u001b[39;00mkeyword\u001b[38;5;132;01m}\u001b[39;00m\u001b[38;5;124m\"\u001b[39m)\n",
      "File \u001b[0;32m~/miniconda/envs/tsmc_crawler/lib/python3.10/site-packages/selenium/webdriver/remote/webdriver.py:778\u001b[0m, in \u001b[0;36mWebDriver.find_elements\u001b[0;34m(self, by, value)\u001b[0m\n\u001b[1;32m    774\u001b[0m     value \u001b[38;5;241m=\u001b[39m \u001b[38;5;124mf\u001b[39m\u001b[38;5;124m'\u001b[39m\u001b[38;5;124m[name=\u001b[39m\u001b[38;5;124m\"\u001b[39m\u001b[38;5;132;01m{\u001b[39;00mvalue\u001b[38;5;132;01m}\u001b[39;00m\u001b[38;5;124m\"\u001b[39m\u001b[38;5;124m]\u001b[39m\u001b[38;5;124m'\u001b[39m\n\u001b[1;32m    776\u001b[0m \u001b[38;5;66;03m# Return empty list if driver returns null\u001b[39;00m\n\u001b[1;32m    777\u001b[0m \u001b[38;5;66;03m# See https://github.com/SeleniumHQ/selenium/issues/4555\u001b[39;00m\n\u001b[0;32m--> 778\u001b[0m \u001b[38;5;28;01mreturn\u001b[39;00m \u001b[38;5;28;43mself\u001b[39;49m\u001b[38;5;241;43m.\u001b[39;49m\u001b[43mexecute\u001b[49m\u001b[43m(\u001b[49m\u001b[43mCommand\u001b[49m\u001b[38;5;241;43m.\u001b[39;49m\u001b[43mFIND_ELEMENTS\u001b[49m\u001b[43m,\u001b[49m\u001b[43m \u001b[49m\u001b[43m{\u001b[49m\u001b[38;5;124;43m\"\u001b[39;49m\u001b[38;5;124;43musing\u001b[39;49m\u001b[38;5;124;43m\"\u001b[39;49m\u001b[43m:\u001b[49m\u001b[43m \u001b[49m\u001b[43mby\u001b[49m\u001b[43m,\u001b[49m\u001b[43m \u001b[49m\u001b[38;5;124;43m\"\u001b[39;49m\u001b[38;5;124;43mvalue\u001b[39;49m\u001b[38;5;124;43m\"\u001b[39;49m\u001b[43m:\u001b[49m\u001b[43m \u001b[49m\u001b[43mvalue\u001b[49m\u001b[43m}\u001b[49m\u001b[43m)\u001b[49m[\u001b[38;5;124m\"\u001b[39m\u001b[38;5;124mvalue\u001b[39m\u001b[38;5;124m\"\u001b[39m] \u001b[38;5;129;01mor\u001b[39;00m []\n",
      "File \u001b[0;32m~/miniconda/envs/tsmc_crawler/lib/python3.10/site-packages/selenium/webdriver/remote/webdriver.py:354\u001b[0m, in \u001b[0;36mWebDriver.execute\u001b[0;34m(self, driver_command, params)\u001b[0m\n\u001b[1;32m    352\u001b[0m response \u001b[38;5;241m=\u001b[39m \u001b[38;5;28mself\u001b[39m\u001b[38;5;241m.\u001b[39mcommand_executor\u001b[38;5;241m.\u001b[39mexecute(driver_command, params)\n\u001b[1;32m    353\u001b[0m \u001b[38;5;28;01mif\u001b[39;00m response:\n\u001b[0;32m--> 354\u001b[0m     \u001b[38;5;28;43mself\u001b[39;49m\u001b[38;5;241;43m.\u001b[39;49m\u001b[43merror_handler\u001b[49m\u001b[38;5;241;43m.\u001b[39;49m\u001b[43mcheck_response\u001b[49m\u001b[43m(\u001b[49m\u001b[43mresponse\u001b[49m\u001b[43m)\u001b[49m\n\u001b[1;32m    355\u001b[0m     response[\u001b[38;5;124m\"\u001b[39m\u001b[38;5;124mvalue\u001b[39m\u001b[38;5;124m\"\u001b[39m] \u001b[38;5;241m=\u001b[39m \u001b[38;5;28mself\u001b[39m\u001b[38;5;241m.\u001b[39m_unwrap_value(response\u001b[38;5;241m.\u001b[39mget(\u001b[38;5;124m\"\u001b[39m\u001b[38;5;124mvalue\u001b[39m\u001b[38;5;124m\"\u001b[39m, \u001b[38;5;28;01mNone\u001b[39;00m))\n\u001b[1;32m    356\u001b[0m     \u001b[38;5;28;01mreturn\u001b[39;00m response\n",
      "File \u001b[0;32m~/miniconda/envs/tsmc_crawler/lib/python3.10/site-packages/selenium/webdriver/remote/errorhandler.py:229\u001b[0m, in \u001b[0;36mErrorHandler.check_response\u001b[0;34m(self, response)\u001b[0m\n\u001b[1;32m    227\u001b[0m         alert_text \u001b[38;5;241m=\u001b[39m value[\u001b[38;5;124m\"\u001b[39m\u001b[38;5;124malert\u001b[39m\u001b[38;5;124m\"\u001b[39m]\u001b[38;5;241m.\u001b[39mget(\u001b[38;5;124m\"\u001b[39m\u001b[38;5;124mtext\u001b[39m\u001b[38;5;124m\"\u001b[39m)\n\u001b[1;32m    228\u001b[0m     \u001b[38;5;28;01mraise\u001b[39;00m exception_class(message, screen, stacktrace, alert_text)  \u001b[38;5;66;03m# type: ignore[call-arg]  # mypy is not smart enough here\u001b[39;00m\n\u001b[0;32m--> 229\u001b[0m \u001b[38;5;28;01mraise\u001b[39;00m exception_class(message, screen, stacktrace)\n",
      "\u001b[0;31mNoSuchWindowException\u001b[0m: Message: no such window: target window already closed\nfrom unknown error: web view not found\n  (Session info: chrome=126.0.6478.127)\nStacktrace:\n0   chromedriver                        0x00000001026980e8 chromedriver + 5169384\n1   chromedriver                        0x000000010268ffba chromedriver + 5136314\n2   chromedriver                        0x000000010220c36c chromedriver + 402284\n3   chromedriver                        0x00000001021e15f4 chromedriver + 226804\n4   chromedriver                        0x000000010228553d chromedriver + 898365\n5   chromedriver                        0x000000010229b908 chromedriver + 989448\n6   chromedriver                        0x000000010227c853 chromedriver + 862291\n7   chromedriver                        0x000000010224c5c6 chromedriver + 665030\n8   chromedriver                        0x000000010224ce4e chromedriver + 667214\n9   chromedriver                        0x000000010265ad00 chromedriver + 4918528\n10  chromedriver                        0x000000010265fcfd chromedriver + 4939005\n11  chromedriver                        0x00000001026603d5 chromedriver + 4940757\n12  chromedriver                        0x000000010263bde4 chromedriver + 4791780\n13  chromedriver                        0x00000001026606c9 chromedriver + 4941513\n14  chromedriver                        0x000000010262d5b4 chromedriver + 4732340\n15  chromedriver                        0x0000000102680898 chromedriver + 5073048\n16  chromedriver                        0x0000000102680a57 chromedriver + 5073495\n17  chromedriver                        0x000000010268fb6e chromedriver + 5135214\n18  libsystem_pthread.dylib             0x00007ff81cdad4f4 _pthread_start + 125\n19  libsystem_pthread.dylib             0x00007ff81cda900f thread_start + 15\n"
     ]
    }
   ],
   "source": [
    "keywords = ['intel', 'intel fab', 'intel foundry', 'samsung', 'samsung fab', 'samsung foundry', 'globalfoundries', 'globalfoundries fab', 'smic', 'smic fab', 'united microelectronics', 'united microelectronics fab']\n",
    "\n",
    "# 用於保存結果的 DataFrame\n",
    "articles_data = []\n",
    "\n",
    "for keyword in tqdm(keywords):\n",
    "    for page_num in range(1, 100):\n",
    "        if page_num == 1:\n",
    "            url = f'https://www.nbc4i.com/?submit=&s={keyword}+&orderby=modified'\n",
    "        else:\n",
    "            url = f'https://www.nbc4i.com/page/{page_num}/?submit&s={keyword}+&orderby=modified'\n",
    "        driver.get(url)\n",
    "\n",
    "        time.sleep(10)\n",
    "\n",
    "        # 檢查是否有文章\n",
    "        \n",
    "        # 檢查是否出現 \"We’re sorry!\" 信息\n",
    "        error_elements = driver.find_elements(By.XPATH, '/html/body/div[1]/div/div[2]/div[2]/div/main/section/div/h1')\n",
    "        if error_elements and error_elements[0].text == 'We’re sorry!':\n",
    "            print(f\"No more results for keyword: {keyword}\")\n",
    "            break\n",
    "\n",
    "        # 抓取所有文章鏈接\n",
    "        # /html/body/div[1]/div/div[2]/div[2]/div/main/section/div/article[13]/div/h2/a\n",
    "        articles = driver.find_elements(By.XPATH, \"//div[contains(@class, 'article-list__article-text')]//h2/a\")\n",
    "        article_urls = [article.get_attribute('href') for article in articles]\n",
    "        # print(f'Found {len(article_urls)} articles for keyword: {keyword}')\n",
    "\n",
    "        for url in tqdm(article_urls):\n",
    "            try:\n",
    "                driver.get(url)\n",
    "\n",
    "                time.sleep(5)\n",
    "\n",
    "                title = driver.find_element(By.XPATH, \"//html/body/div[2]/div/div[2]/div[1]/header/div/div/h1\").text\n",
    "                author = driver.find_element(By.XPATH, \"//html/body/div[2]/div/div[2]/div[1]/header/div/div/div[2]/p[1]/a\").text\n",
    "                time_element = driver.find_element(By.XPATH, \"//html/body/div[2]/div/div[2]/div[1]/header/div/div/div[2]/p[2]/time\")\n",
    "                time_ = time_element.get_attribute('datetime')\n",
    "                paragraphs = driver.find_elements(By.XPATH, \"//div[@class='article-content article-body rich-text ']//p\")\n",
    "                content = '\\n'.join([paragraph.text for paragraph in paragraphs])\n",
    "\n",
    "                articles_data.append({\n",
    "                    'URL': url,\n",
    "                    'Title': title,\n",
    "                    'Author': author,\n",
    "                    'Time': time_,\n",
    "                    'Content': content\n",
    "                })\n",
    "\n",
    "                df = pd.DataFrame(articles_data)\n",
    "                df.to_csv('articles.csv', index=False, encoding='utf-8')\n",
    "            except:\n",
    "                print(f'Error occurred while scraping {url}')\n",
    "\n",
    "        articles_data = []\n",
    "        "
   ]
  },
  {
   "cell_type": "code",
   "execution_count": null,
   "metadata": {},
   "outputs": [],
   "source": [
    "df = pd.DataFrame(articles_data)\n",
    "df.to_csv('articles.csv', index=False, encoding='utf-8')\n"
   ]
  }
 ],
 "metadata": {
  "kernelspec": {
   "display_name": "tsmc_crawler",
   "language": "python",
   "name": "python3"
  },
  "language_info": {
   "codemirror_mode": {
    "name": "ipython",
    "version": 3
   },
   "file_extension": ".py",
   "mimetype": "text/x-python",
   "name": "python",
   "nbconvert_exporter": "python",
   "pygments_lexer": "ipython3",
   "version": "3.10.0"
  }
 },
 "nbformat": 4,
 "nbformat_minor": 2
}
