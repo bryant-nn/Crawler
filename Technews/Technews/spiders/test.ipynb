{
 "cells": [
  {
   "cell_type": "code",
   "execution_count": 12,
   "metadata": {},
   "outputs": [],
   "source": [
    "from openpyxl import Workbook\n",
    "import pandas as pd\n",
    "import re"
   ]
  },
  {
   "cell_type": "code",
   "execution_count": 3,
   "metadata": {},
   "outputs": [],
   "source": [
    "\n",
    "df = pd.read_excel('./technews_semiconductor.xlsx')\n",
    "\n",
    "# 顯示資料\n",
    "\n"
   ]
  },
  {
   "cell_type": "code",
   "execution_count": 3,
   "metadata": {},
   "outputs": [],
   "source": [
    "lis = df['URL'].tolist()"
   ]
  },
  {
   "cell_type": "code",
   "execution_count": 4,
   "metadata": {},
   "outputs": [],
   "source": [
    "with open('seen_urls.txt', 'w') as file:\n",
    "    for item in lis:\n",
    "        file.write(f\"{item}\\n\")"
   ]
  },
  {
   "cell_type": "code",
   "execution_count": null,
   "metadata": {},
   "outputs": [],
   "source": []
  },
  {
   "cell_type": "code",
   "execution_count": 4,
   "metadata": {},
   "outputs": [],
   "source": [
    "# 使用str.contains()方法來過濾包含'samsung'的行，並忽略大小寫\n",
    "filtered_df = df[df['Content'].str.contains('samsung', case=False, na=False)]\n",
    "\n",
    "# 將篩選後的DataFrame保存回Excel文件\n",
    "filtered_df.to_excel('filtered_samsung.xlsx', index=False)"
   ]
  },
  {
   "cell_type": "code",
   "execution_count": 5,
   "metadata": {},
   "outputs": [
    {
     "name": "stderr",
     "output_type": "stream",
     "text": [
      "/var/folders/4p/slhgkvrd09356dhy7fljlz280000gn/T/ipykernel_42882/2551092269.py:2: SettingWithCopyWarning: \n",
      "A value is trying to be set on a copy of a slice from a DataFrame.\n",
      "Try using .loc[row_indexer,col_indexer] = value instead\n",
      "\n",
      "See the caveats in the documentation: https://pandas.pydata.org/pandas-docs/stable/user_guide/indexing.html#returning-a-view-versus-a-copy\n",
      "  filtered_df['Time'] = filtered_df['Time'].str.strip()\n",
      "/var/folders/4p/slhgkvrd09356dhy7fljlz280000gn/T/ipykernel_42882/2551092269.py:3: SettingWithCopyWarning: \n",
      "A value is trying to be set on a copy of a slice from a DataFrame.\n",
      "Try using .loc[row_indexer,col_indexer] = value instead\n",
      "\n",
      "See the caveats in the documentation: https://pandas.pydata.org/pandas-docs/stable/user_guide/indexing.html#returning-a-view-versus-a-copy\n",
      "  filtered_df['Time'] = filtered_df['Time'].str.replace(' 年 ', '-').str.replace(' 月 ', '-').str.replace(' 日 ', ' ')\n",
      "/var/folders/4p/slhgkvrd09356dhy7fljlz280000gn/T/ipykernel_42882/2551092269.py:6: SettingWithCopyWarning: \n",
      "A value is trying to be set on a copy of a slice from a DataFrame.\n",
      "Try using .loc[row_indexer,col_indexer] = value instead\n",
      "\n",
      "See the caveats in the documentation: https://pandas.pydata.org/pandas-docs/stable/user_guide/indexing.html#returning-a-view-versus-a-copy\n",
      "  filtered_df['Time'] = pd.to_datetime(filtered_df['Time'])\n"
     ]
    }
   ],
   "source": [
    "# 移除多餘的空格，替換中文日期符號\n",
    "filtered_df['Time'] = filtered_df['Time'].str.strip()\n",
    "filtered_df['Time'] = filtered_df['Time'].str.replace(' 年 ', '-').str.replace(' 月 ', '-').str.replace(' 日 ', ' ')\n",
    "\n",
    "# 將字串轉換為datetime格式\n",
    "filtered_df['Time'] = pd.to_datetime(filtered_df['Time'])"
   ]
  },
  {
   "cell_type": "code",
   "execution_count": 7,
   "metadata": {},
   "outputs": [],
   "source": [
    "filtered_df.to_excel('filtered_samsung.xlsx', index=False)"
   ]
  },
  {
   "cell_type": "code",
   "execution_count": 9,
   "metadata": {},
   "outputs": [],
   "source": [
    "sorted_df = filtered_df.sort_values(by='Time')\n",
    "sorted_df.to_excel('sorted_samsung.xlsx', index=False)"
   ]
  },
  {
   "cell_type": "code",
   "execution_count": 16,
   "metadata": {},
   "outputs": [],
   "source": [
    "(sorted_df) = pd.read_excel('sorted_samsung.xlsx')"
   ]
  },
  {
   "cell_type": "code",
   "execution_count": 17,
   "metadata": {},
   "outputs": [
    {
     "data": {
      "text/plain": [
       "35"
      ]
     },
     "execution_count": 17,
     "metadata": {},
     "output_type": "execute_result"
    }
   ],
   "source": [
    "len(sorted_df)"
   ]
  },
  {
   "cell_type": "code",
   "execution_count": 19,
   "metadata": {},
   "outputs": [],
   "source": [
    "def clean_filename(filename):\n",
    "    return re.sub(r'[\\\\/*?:\"<>|]', \"\", filename)\n",
    "\n",
    "# 遍歷每一行，創建相應的txt文件\n",
    "for index, row in sorted_df.iterrows():\n",
    "    title = row['Title']\n",
    "    content = row['Content']\n",
    "    \n",
    "    # 清理文件名\n",
    "    cleaned_title = clean_filename(title)\n",
    "    \n",
    "    # 生成txt文件\n",
    "    with open(f\"data/{cleaned_title}.txt\", \"w\", encoding='utf-8') as file:\n",
    "        file.write(content)"
   ]
  },
  {
   "cell_type": "code",
   "execution_count": null,
   "metadata": {},
   "outputs": [],
   "source": []
  }
 ],
 "metadata": {
  "kernelspec": {
   "display_name": "ai_env",
   "language": "python",
   "name": "python3"
  },
  "language_info": {
   "codemirror_mode": {
    "name": "ipython",
    "version": 3
   },
   "file_extension": ".py",
   "mimetype": "text/x-python",
   "name": "python",
   "nbconvert_exporter": "python",
   "pygments_lexer": "ipython3",
   "version": "3.10.0"
  }
 },
 "nbformat": 4,
 "nbformat_minor": 2
}
