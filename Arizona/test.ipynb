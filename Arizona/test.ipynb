{
 "cells": [
  {
   "cell_type": "code",
   "execution_count": 1,
   "metadata": {},
   "outputs": [],
   "source": [
    "from trafilatura import fetch_url, extract"
   ]
  },
  {
   "cell_type": "code",
   "execution_count": null,
   "metadata": {},
   "outputs": [],
   "source": [
    "url = 'https://www.12news.com/article/money/biden-administration-85b-investment-intel-expected-create-9000-jobs-arizona/75-ad502fd2-5fa7-4d99-b13d-f71bf4d89412'\n",
    "downloaded = fetch_url(url)\n",
    "result = extract(downloaded, output_format=\"json\")\n",
    "print(result)"
   ]
  },
  {
   "cell_type": "code",
   "execution_count": 3,
   "metadata": {},
   "outputs": [
    {
     "name": "stdout",
     "output_type": "stream",
     "text": [
      "{\"title\": \"Silicon Treasure: Intel to get $8.5 billion in government funding and Arizona may get 9,000 new jobs\", \"author\": \"John Tanet\", \"hostname\": \"12news.com\", \"date\": \"2024-03-20\", \"fingerprint\": \"154b1a459d2a0b73\", \"id\": null, \"license\": null, \"comments\": \"\", \"raw_text\": \"CHANDLER, Ariz. — Manufacturing in Arizona is about to get a big boost. On Wednesday, the Biden administration announced that it will invest $8.5 billion into Intel facilities across the country.  Arizona is already home to four microchip manufacturing plants — Intel's largest domestic manufacturing footprint. The company is currently building two new cutting-edge production facilities at its 13,000-employee Ocotillo campus in Chandler.  The investment comes as part of the CHIPS and Science Act, and will award Intel $8.5 billion in direct funding with an additional $11 billion loaned to the company.  While it's unclear how much money will be allocated to the Chandler campus, officials expect the investment to create around 9,000 new jobs in Arizona. Intel plans to start high-volume domestic production of Intel 18A — the company’s most advanced chip design — here in Arizona.  \\\"This is huge news that will cement Arizona as a global hub for microchips and create a lot of great-paying jobs that don’t require a four-year degree,\\\" Sen. Mark Kelly said as part of the announcement on Wednesday.  Arizona is first in the nation for new semiconductor jobs, investment, and supplier expansions, according to data compiled by the Semiconductor Industry Association.  \\\"This investment is proof of how smart, responsible, bipartisan legislation delivers meaningful impact for Arizona as we lead our country to the future,\\\" Sen. Kyrsten Sinema said.  >> Download the 12News app for the latest local breaking news straight to your phone.  12News on YouTube  Catch up on the latest news and stories on our 12News YouTube playlist here.\", \"text\": \"CHANDLER, Ariz. — Manufacturing in Arizona is about to get a big boost. On Wednesday, the Biden administration announced that it will invest $8.5 billion into Intel facilities across the country.\\nArizona is already home to four microchip manufacturing plants — Intel's largest domestic manufacturing footprint. The company is currently building two new cutting-edge production facilities at its 13,000-employee Ocotillo campus in Chandler.\\nThe investment comes as part of the CHIPS and Science Act, and will award Intel $8.5 billion in direct funding with an additional $11 billion loaned to the company.\\nWhile it's unclear how much money will be allocated to the Chandler campus, officials expect the investment to create around 9,000 new jobs in Arizona. Intel plans to start high-volume domestic production of Intel 18A — the company’s most advanced chip design — here in Arizona.\\n\\\"This is huge news that will cement Arizona as a global hub for microchips and create a lot of great-paying jobs that don’t require a four-year degree,\\\" Sen. Mark Kelly said as part of the announcement on Wednesday.\\nArizona is first in the nation for new semiconductor jobs, investment, and supplier expansions, according to data compiled by the Semiconductor Industry Association.\\n\\\"This investment is proof of how smart, responsible, bipartisan legislation delivers meaningful impact for Arizona as we lead our country to the future,\\\" Sen. Kyrsten Sinema said.\\n>> Download the 12News app for the latest local breaking news straight to your phone.\\n12News on YouTube\\nCatch up on the latest news and stories on our 12News YouTube playlist here.\", \"language\": null, \"image\": \"https://media.12news.com/assets/KPNX/images/2462c360-1a00-463f-9547-54c8a2f726ad/2462c360-1a00-463f-9547-54c8a2f726ad_1140x641.jpg\", \"pagetype\": \"article\", \"filedate\": \"2024-07-07\", \"source\": \"https://www.12news.com/article/money/biden-administration-85b-investment-intel-expected-create-9000-jobs-arizona/75-ad502fd2-5fa7-4d99-b13d-f71bf4d89412\", \"source-hostname\": \"KPNX\", \"excerpt\": \"The investment comes as part of the CHIPS and Science Act. Part of that money will go to the Intel campus in Chandler.\", \"categories\": \"12news,money,arizona,news,local\", \"tags\": \"\"}\n"
     ]
    }
   ],
   "source": [
    "url = 'https://www.12news.com/article/money/biden-administration-85b-investment-intel-expected-create-9000-jobs-arizona/75-ad502fd2-5fa7-4d99-b13d-f71bf4d89412'\n",
    "downloaded = fetch_url(url)\n",
    "result = extract(downloaded, output_format=\"json\")\n",
    "print(result)"
   ]
  }
 ],
 "metadata": {
  "kernelspec": {
   "display_name": "tsmc_crawler",
   "language": "python",
   "name": "python3"
  },
  "language_info": {
   "codemirror_mode": {
    "name": "ipython",
    "version": 3
   },
   "file_extension": ".py",
   "mimetype": "text/x-python",
   "name": "python",
   "nbconvert_exporter": "python",
   "pygments_lexer": "ipython3",
   "version": "3.10.0"
  }
 },
 "nbformat": 4,
 "nbformat_minor": 2
}
